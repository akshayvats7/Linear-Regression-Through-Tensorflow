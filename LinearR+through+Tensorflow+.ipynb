{
 "cells": [
  {
   "cell_type": "code",
   "execution_count": 1,
   "metadata": {},
   "outputs": [
    {
     "name": "stderr",
     "output_type": "stream",
     "text": [
      "C:\\Anaconda\\lib\\site-packages\\h5py\\__init__.py:36: FutureWarning: Conversion of the second argument of issubdtype from `float` to `np.floating` is deprecated. In future, it will be treated as `np.float64 == np.dtype(float).type`.\n",
      "  from ._conv import register_converters as _register_converters\n"
     ]
    }
   ],
   "source": [
    "import numpy as np\n",
    "import pandas as pd\n",
    "import tensorflow as tf"
   ]
  },
  {
   "cell_type": "code",
   "execution_count": 2,
   "metadata": {
    "collapsed": true
   },
   "outputs": [],
   "source": [
    "df = pd.read_csv('wine.csv')"
   ]
  },
  {
   "cell_type": "code",
   "execution_count": 3,
   "metadata": {},
   "outputs": [
    {
     "data": {
      "text/html": [
       "<div>\n",
       "<style>\n",
       "    .dataframe thead tr:only-child th {\n",
       "        text-align: right;\n",
       "    }\n",
       "\n",
       "    .dataframe thead th {\n",
       "        text-align: left;\n",
       "    }\n",
       "\n",
       "    .dataframe tbody tr th {\n",
       "        vertical-align: top;\n",
       "    }\n",
       "</style>\n",
       "<table border=\"1\" class=\"dataframe\">\n",
       "  <thead>\n",
       "    <tr style=\"text-align: right;\">\n",
       "      <th></th>\n",
       "      <th>fixed acidity</th>\n",
       "      <th>volatile acidity</th>\n",
       "      <th>citric acid</th>\n",
       "      <th>residual sugar</th>\n",
       "      <th>chlorides</th>\n",
       "      <th>free sulfur dioxide</th>\n",
       "      <th>total sulfur dioxide</th>\n",
       "      <th>density</th>\n",
       "      <th>pH</th>\n",
       "      <th>sulphates</th>\n",
       "      <th>alcohol</th>\n",
       "      <th>quality</th>\n",
       "    </tr>\n",
       "  </thead>\n",
       "  <tbody>\n",
       "    <tr>\n",
       "      <th>0</th>\n",
       "      <td>7.4</td>\n",
       "      <td>0.70</td>\n",
       "      <td>0.00</td>\n",
       "      <td>1.9</td>\n",
       "      <td>0.076</td>\n",
       "      <td>11.0</td>\n",
       "      <td>34.0</td>\n",
       "      <td>0.9978</td>\n",
       "      <td>3.51</td>\n",
       "      <td>0.56</td>\n",
       "      <td>9.4</td>\n",
       "      <td>5</td>\n",
       "    </tr>\n",
       "    <tr>\n",
       "      <th>1</th>\n",
       "      <td>7.8</td>\n",
       "      <td>0.88</td>\n",
       "      <td>0.00</td>\n",
       "      <td>2.6</td>\n",
       "      <td>0.098</td>\n",
       "      <td>25.0</td>\n",
       "      <td>67.0</td>\n",
       "      <td>0.9968</td>\n",
       "      <td>3.20</td>\n",
       "      <td>0.68</td>\n",
       "      <td>9.8</td>\n",
       "      <td>5</td>\n",
       "    </tr>\n",
       "    <tr>\n",
       "      <th>2</th>\n",
       "      <td>7.8</td>\n",
       "      <td>0.76</td>\n",
       "      <td>0.04</td>\n",
       "      <td>2.3</td>\n",
       "      <td>0.092</td>\n",
       "      <td>15.0</td>\n",
       "      <td>54.0</td>\n",
       "      <td>0.9970</td>\n",
       "      <td>3.26</td>\n",
       "      <td>0.65</td>\n",
       "      <td>9.8</td>\n",
       "      <td>5</td>\n",
       "    </tr>\n",
       "    <tr>\n",
       "      <th>3</th>\n",
       "      <td>11.2</td>\n",
       "      <td>0.28</td>\n",
       "      <td>0.56</td>\n",
       "      <td>1.9</td>\n",
       "      <td>0.075</td>\n",
       "      <td>17.0</td>\n",
       "      <td>60.0</td>\n",
       "      <td>0.9980</td>\n",
       "      <td>3.16</td>\n",
       "      <td>0.58</td>\n",
       "      <td>9.8</td>\n",
       "      <td>6</td>\n",
       "    </tr>\n",
       "    <tr>\n",
       "      <th>4</th>\n",
       "      <td>7.4</td>\n",
       "      <td>0.70</td>\n",
       "      <td>0.00</td>\n",
       "      <td>1.9</td>\n",
       "      <td>0.076</td>\n",
       "      <td>11.0</td>\n",
       "      <td>34.0</td>\n",
       "      <td>0.9978</td>\n",
       "      <td>3.51</td>\n",
       "      <td>0.56</td>\n",
       "      <td>9.4</td>\n",
       "      <td>5</td>\n",
       "    </tr>\n",
       "  </tbody>\n",
       "</table>\n",
       "</div>"
      ],
      "text/plain": [
       "   fixed acidity  volatile acidity  citric acid  residual sugar  chlorides  \\\n",
       "0            7.4              0.70         0.00             1.9      0.076   \n",
       "1            7.8              0.88         0.00             2.6      0.098   \n",
       "2            7.8              0.76         0.04             2.3      0.092   \n",
       "3           11.2              0.28         0.56             1.9      0.075   \n",
       "4            7.4              0.70         0.00             1.9      0.076   \n",
       "\n",
       "   free sulfur dioxide  total sulfur dioxide  density    pH  sulphates  \\\n",
       "0                 11.0                  34.0   0.9978  3.51       0.56   \n",
       "1                 25.0                  67.0   0.9968  3.20       0.68   \n",
       "2                 15.0                  54.0   0.9970  3.26       0.65   \n",
       "3                 17.0                  60.0   0.9980  3.16       0.58   \n",
       "4                 11.0                  34.0   0.9978  3.51       0.56   \n",
       "\n",
       "   alcohol  quality  \n",
       "0      9.4        5  \n",
       "1      9.8        5  \n",
       "2      9.8        5  \n",
       "3      9.8        6  \n",
       "4      9.4        5  "
      ]
     },
     "execution_count": 3,
     "metadata": {},
     "output_type": "execute_result"
    }
   ],
   "source": [
    "df.head()"
   ]
  },
  {
   "cell_type": "code",
   "execution_count": 4,
   "metadata": {},
   "outputs": [
    {
     "name": "stdout",
     "output_type": "stream",
     "text": [
      "<class 'pandas.core.frame.DataFrame'>\n",
      "RangeIndex: 1599 entries, 0 to 1598\n",
      "Data columns (total 12 columns):\n",
      "fixed acidity           1599 non-null float64\n",
      "volatile acidity        1599 non-null float64\n",
      "citric acid             1599 non-null float64\n",
      "residual sugar          1599 non-null float64\n",
      "chlorides               1599 non-null float64\n",
      "free sulfur dioxide     1599 non-null float64\n",
      "total sulfur dioxide    1599 non-null float64\n",
      "density                 1599 non-null float64\n",
      "pH                      1599 non-null float64\n",
      "sulphates               1599 non-null float64\n",
      "alcohol                 1599 non-null float64\n",
      "quality                 1599 non-null int64\n",
      "dtypes: float64(11), int64(1)\n",
      "memory usage: 150.0 KB\n"
     ]
    }
   ],
   "source": [
    "df.info()"
   ]
  },
  {
   "cell_type": "code",
   "execution_count": 5,
   "metadata": {},
   "outputs": [
    {
     "data": {
      "text/plain": [
       "Index(['fixed acidity', 'volatile acidity', 'citric acid', 'residual sugar',\n",
       "       'chlorides', 'free sulfur dioxide', 'total sulfur dioxide', 'density',\n",
       "       'pH', 'sulphates', 'alcohol', 'quality'],\n",
       "      dtype='object')"
      ]
     },
     "execution_count": 5,
     "metadata": {},
     "output_type": "execute_result"
    }
   ],
   "source": [
    "df.columns"
   ]
  },
  {
   "cell_type": "code",
   "execution_count": 6,
   "metadata": {
    "collapsed": true
   },
   "outputs": [],
   "source": [
    "cols = ['quality']"
   ]
  },
  {
   "cell_type": "code",
   "execution_count": 7,
   "metadata": {
    "collapsed": true
   },
   "outputs": [],
   "source": [
    "xcols = ['fixed acidity', 'volatile acidity', 'citric acid', 'residual sugar',\n",
    "       'chlorides', 'free sulfur dioxide', 'total sulfur dioxide', 'density',\n",
    "       'pH', 'sulphates', 'alcohol']"
   ]
  },
  {
   "cell_type": "code",
   "execution_count": 8,
   "metadata": {
    "collapsed": true
   },
   "outputs": [],
   "source": [
    "l = [[x for x in df[cols]] for cols in xcols]"
   ]
  },
  {
   "cell_type": "code",
   "execution_count": 9,
   "metadata": {
    "collapsed": true
   },
   "outputs": [],
   "source": [
    "x = np.array(l,dtype = 'float32')"
   ]
  },
  {
   "cell_type": "code",
   "execution_count": 10,
   "metadata": {},
   "outputs": [
    {
     "data": {
      "text/plain": [
       "array([[ 7.4  ,  7.8  ,  7.8  , ...,  6.3  ,  5.9  ,  6.   ],\n",
       "       [ 0.7  ,  0.88 ,  0.76 , ...,  0.51 ,  0.645,  0.31 ],\n",
       "       [ 0.   ,  0.   ,  0.04 , ...,  0.13 ,  0.12 ,  0.47 ],\n",
       "       ...,\n",
       "       [ 3.51 ,  3.2  ,  3.26 , ...,  3.42 ,  3.57 ,  3.39 ],\n",
       "       [ 0.56 ,  0.68 ,  0.65 , ...,  0.75 ,  0.71 ,  0.66 ],\n",
       "       [ 9.4  ,  9.8  ,  9.8  , ..., 11.   , 10.2  , 11.   ]],\n",
       "      dtype=float32)"
      ]
     },
     "execution_count": 10,
     "metadata": {},
     "output_type": "execute_result"
    }
   ],
   "source": [
    "x"
   ]
  },
  {
   "cell_type": "code",
   "execution_count": 12,
   "metadata": {},
   "outputs": [
    {
     "data": {
      "text/plain": [
       "dtype('float32')"
      ]
     },
     "execution_count": 12,
     "metadata": {},
     "output_type": "execute_result"
    }
   ],
   "source": [
    "x.dtype"
   ]
  },
  {
   "cell_type": "code",
   "execution_count": 13,
   "metadata": {
    "collapsed": true
   },
   "outputs": [],
   "source": [
    "x_vals = x.transpose()"
   ]
  },
  {
   "cell_type": "code",
   "execution_count": 14,
   "metadata": {},
   "outputs": [
    {
     "data": {
      "text/plain": [
       "array([[ 7.4  ,  0.7  ,  0.   , ...,  3.51 ,  0.56 ,  9.4  ],\n",
       "       [ 7.8  ,  0.88 ,  0.   , ...,  3.2  ,  0.68 ,  9.8  ],\n",
       "       [ 7.8  ,  0.76 ,  0.04 , ...,  3.26 ,  0.65 ,  9.8  ],\n",
       "       ...,\n",
       "       [ 6.3  ,  0.51 ,  0.13 , ...,  3.42 ,  0.75 , 11.   ],\n",
       "       [ 5.9  ,  0.645,  0.12 , ...,  3.57 ,  0.71 , 10.2  ],\n",
       "       [ 6.   ,  0.31 ,  0.47 , ...,  3.39 ,  0.66 , 11.   ]],\n",
       "      dtype=float32)"
      ]
     },
     "execution_count": 14,
     "metadata": {},
     "output_type": "execute_result"
    }
   ],
   "source": [
    "x_vals"
   ]
  },
  {
   "cell_type": "code",
   "execution_count": 15,
   "metadata": {},
   "outputs": [
    {
     "data": {
      "text/plain": [
       "(1599, 11)"
      ]
     },
     "execution_count": 15,
     "metadata": {},
     "output_type": "execute_result"
    }
   ],
   "source": [
    "x_vals.shape"
   ]
  },
  {
   "cell_type": "code",
   "execution_count": 16,
   "metadata": {},
   "outputs": [
    {
     "data": {
      "text/plain": [
       "dtype('float32')"
      ]
     },
     "execution_count": 16,
     "metadata": {},
     "output_type": "execute_result"
    }
   ],
   "source": [
    "x_vals.dtype"
   ]
  },
  {
   "cell_type": "code",
   "execution_count": 17,
   "metadata": {
    "collapsed": true
   },
   "outputs": [],
   "source": [
    "y = np.array([x for x in df['quality']], dtype = 'float32')"
   ]
  },
  {
   "cell_type": "code",
   "execution_count": 18,
   "metadata": {},
   "outputs": [
    {
     "data": {
      "text/plain": [
       "array([5., 5., 5., ..., 6., 5., 6.], dtype=float32)"
      ]
     },
     "execution_count": 18,
     "metadata": {},
     "output_type": "execute_result"
    }
   ],
   "source": [
    "y"
   ]
  },
  {
   "cell_type": "code",
   "execution_count": 19,
   "metadata": {
    "collapsed": true
   },
   "outputs": [],
   "source": [
    "y_vals = y.transpose()"
   ]
  },
  {
   "cell_type": "code",
   "execution_count": 20,
   "metadata": {},
   "outputs": [
    {
     "data": {
      "text/plain": [
       "(1599,)"
      ]
     },
     "execution_count": 20,
     "metadata": {},
     "output_type": "execute_result"
    }
   ],
   "source": [
    "y_vals.shape"
   ]
  },
  {
   "cell_type": "code",
   "execution_count": 21,
   "metadata": {
    "collapsed": true
   },
   "outputs": [],
   "source": [
    "x_data = tf.placeholder(shape = [None, 11], dtype = tf.float32)\n",
    "y_data = tf.placeholder(shape = [None,1], dtype = tf.float32)"
   ]
  },
  {
   "cell_type": "code",
   "execution_count": 22,
   "metadata": {},
   "outputs": [
    {
     "name": "stdout",
     "output_type": "stream",
     "text": [
      "WARNING:tensorflow:From C:\\Anaconda\\lib\\site-packages\\tensorflow\\python\\framework\\op_def_library.py:263: colocate_with (from tensorflow.python.framework.ops) is deprecated and will be removed in a future version.\n",
      "Instructions for updating:\n",
      "Colocations handled automatically by placer.\n"
     ]
    }
   ],
   "source": [
    "m = tf.Variable(tf.random_normal(shape=[1599,11]))\n",
    "c = tf.Variable(tf.random_normal(shape=[1,1]))"
   ]
  },
  {
   "cell_type": "code",
   "execution_count": 23,
   "metadata": {
    "collapsed": true
   },
   "outputs": [],
   "source": [
    "model = tf.add(tf.multiply(m,x_data),c)"
   ]
  },
  {
   "cell_type": "code",
   "execution_count": 24,
   "metadata": {
    "collapsed": true
   },
   "outputs": [],
   "source": [
    "loss = tf.reduce_mean(tf.square(y_data - model))"
   ]
  },
  {
   "cell_type": "code",
   "execution_count": 25,
   "metadata": {
    "collapsed": true
   },
   "outputs": [],
   "source": [
    "gradient = tf.train.GradientDescentOptimizer(0.05)"
   ]
  },
  {
   "cell_type": "code",
   "execution_count": 26,
   "metadata": {
    "collapsed": true
   },
   "outputs": [],
   "source": [
    "train_ = gradient.minimize(loss)"
   ]
  },
  {
   "cell_type": "code",
   "execution_count": 27,
   "metadata": {
    "collapsed": true
   },
   "outputs": [],
   "source": [
    "init = tf.global_variables_initializer()"
   ]
  },
  {
   "cell_type": "code",
   "execution_count": 28,
   "metadata": {
    "collapsed": true
   },
   "outputs": [],
   "source": [
    "sess = tf.Session()"
   ]
  },
  {
   "cell_type": "code",
   "execution_count": 29,
   "metadata": {
    "collapsed": true
   },
   "outputs": [],
   "source": [
    "sess.run(init)"
   ]
  },
  {
   "cell_type": "code",
   "execution_count": 30,
   "metadata": {},
   "outputs": [
    {
     "data": {
      "text/plain": [
       "dtype('float32')"
      ]
     },
     "execution_count": 30,
     "metadata": {},
     "output_type": "execute_result"
    }
   ],
   "source": [
    "y_vals.dtype"
   ]
  },
  {
   "cell_type": "code",
   "execution_count": 31,
   "metadata": {},
   "outputs": [
    {
     "data": {
      "text/plain": [
       "(1599,)"
      ]
     },
     "execution_count": 31,
     "metadata": {},
     "output_type": "execute_result"
    }
   ],
   "source": [
    "y_vals.shape"
   ]
  },
  {
   "cell_type": "code",
   "execution_count": 35,
   "metadata": {
    "collapsed": true
   },
   "outputs": [],
   "source": [
    "y_vals.shape = (1599,1)"
   ]
  },
  {
   "cell_type": "code",
   "execution_count": 36,
   "metadata": {},
   "outputs": [
    {
     "data": {
      "text/plain": [
       "(1599, 1)"
      ]
     },
     "execution_count": 36,
     "metadata": {},
     "output_type": "execute_result"
    }
   ],
   "source": [
    "y_vals.shape"
   ]
  },
  {
   "cell_type": "code",
   "execution_count": 42,
   "metadata": {},
   "outputs": [
    {
     "name": "stdout",
     "output_type": "stream",
     "text": [
      "Step 5000 m: [[-0.08523306 -0.47105387  0.82367426 ... -0.1739834  -0.25854352\n",
      "  -0.06709908]\n",
      " [-0.08084911 -1.446805    0.09168409 ... -0.22648434 -0.7657996\n",
      "  -0.06436146]\n",
      " [-0.0808666  -0.5539145   0.69300896 ... -0.20342283  0.54831475\n",
      "  -0.06436146]\n",
      " ...\n",
      " [ 0.05861347 -1.486837    2.0798802  ...  0.1214157   0.07967323\n",
      "   0.03357226]\n",
      " [-0.10687014 -1.9611666   0.38302317 ... -0.18573847  0.28169394\n",
      "  -0.06183406]\n",
      " [ 0.06153093  0.54327804 -0.12886742 ...  0.10881066  0.40233913\n",
      "   0.03357226]] c: [[5.6307073]]\n",
      "L 0.3789785\n",
      "Step 10000 m: [[-0.08523306 -0.47701433  0.82367426 ... -0.17566994 -0.26627636\n",
      "  -0.06709908]\n",
      " [-0.08085302 -1.4308429   0.09168409 ... -0.21906336 -0.76788574\n",
      "  -0.06436146]\n",
      " [-0.0808666  -0.55838484  0.6921149  ... -0.20082891  0.53014743\n",
      "  -0.06436146]\n",
      " ...\n",
      " [ 0.05861347 -1.4707438   2.0798802  ...  0.11761398  0.08622035\n",
      "   0.033572  ]\n",
      " [-0.10688592 -1.9498156   0.380788   ... -0.18298312  0.26505747\n",
      "  -0.06183406]\n",
      " [ 0.06153794  0.5450662  -0.12314226 ...  0.10884791  0.40427628\n",
      "   0.033572  ]] c: [[5.630738]]\n",
      "L 0.36519328\n",
      "Step 15000 m: [[-0.08523306 -0.48286304  0.82367426 ... -0.17686218 -0.27387595\n",
      "  -0.06709908]\n",
      " [-0.08085828 -1.4153457   0.09168409 ... -0.21351956 -0.7699719\n",
      "  -0.06436146]\n",
      " [-0.0808666  -0.5628552   0.6912208  ... -0.19891433  0.51226604\n",
      "  -0.06436146]\n",
      " ...\n",
      " [ 0.05861347 -1.4546505   2.0798802  ...  0.11488465  0.09266309\n",
      "   0.03356827]\n",
      " [-0.10689287 -1.9384907   0.37855282 ... -0.1810686   0.24863498\n",
      "  -0.06183791]\n",
      " [ 0.06153794  0.5468543  -0.11745339 ...  0.10886467  0.40621343\n",
      "   0.03356827]] c: [[5.630779]]\n",
      "L 0.35305235\n",
      "Step 20000 m: [[-0.085235   -0.4886745   0.82367426 ... -0.17770633 -0.28147554\n",
      "  -0.06710187]\n",
      " [-0.08086452 -1.4001335   0.09168409 ... -0.20937937 -0.77205807\n",
      "  -0.06436331]\n",
      " [-0.0808666  -0.5672934   0.69032675 ... -0.19750232  0.49457553\n",
      "  -0.06436331]\n",
      " ...\n",
      " [ 0.05860714 -1.4385573   2.0798802  ...  0.11292352  0.09900079\n",
      "   0.03356386]\n",
      " [-0.1069011  -1.9271659   0.37631765 ... -0.17974003  0.23245586\n",
      "  -0.06184267]\n",
      " [ 0.0615379   0.54864246 -0.11180066 ...  0.10886467  0.40815058\n",
      "   0.03356386]] c: [[5.6308274]]\n",
      "L 0.34218463\n",
      "Step 25000 m: [[-0.08524235 -0.49435362  0.82367426 ... -0.17830254 -0.28894356\n",
      "  -0.06710766]\n",
      " [-0.08087149 -1.3852323   0.09168409 ... -0.2062888  -0.77414423\n",
      "  -0.06436886]\n",
      " [-0.08087149 -0.57146573  0.6894327  ... -0.19646327  0.4770793\n",
      "  -0.06436886]\n",
      " ...\n",
      " [ 0.05859848 -1.422464    2.0798802  ...  0.11151326  0.1052377\n",
      "   0.03355891]\n",
      " [-0.10691033 -1.915841    0.37408248 ... -0.17881986  0.21650618\n",
      "  -0.06184801]\n",
      " [ 0.06152881  0.5504306  -0.10618391 ...  0.10886467  0.40999627\n",
      "   0.03355891]] c: [[5.630882]]\n",
      "L 0.33233184\n",
      "Step 30000 m: [[-0.08525024 -0.50001603  0.82367426 ... -0.17872757 -0.29639414\n",
      "  -0.06711387]\n",
      " [-0.08087897 -1.3707298   0.09168409 ... -0.20398314 -0.7762304\n",
      "  -0.06437481]\n",
      " [-0.08087897 -0.57563806  0.6885386  ... -0.19569895  0.4597966\n",
      "  -0.06437481]\n",
      " ...\n",
      " [ 0.05858923 -1.4066007   2.0798802  ...  0.1104971   0.11137589\n",
      "   0.03355361]\n",
      " [-0.10692021 -1.9048339   0.3718473  ... -0.17818505  0.20078272\n",
      "  -0.06185372]\n",
      " [ 0.0615191   0.55221874 -0.10060298 ...  0.10886467  0.4117844\n",
      "   0.03355361]] c: [[5.6309404]]\n",
      "L 0.3233096\n",
      "Step 35000 m: [[-0.08525827 -0.5056748   0.82367426 ... -0.17903692 -0.3037541\n",
      "  -0.06712019]\n",
      " [-0.08088659 -1.3564247   0.09168409 ... -0.20226538 -0.77831656\n",
      "  -0.06438088]\n",
      " [-0.08088659 -0.5798104   0.68764454 ... -0.19513766  0.4427229\n",
      "  -0.06438088]\n",
      " ...\n",
      " [ 0.05857978 -1.3911035   2.0798802  ...  0.10976321  0.11741348\n",
      "   0.0335482 ]\n",
      " [-0.10693029 -1.8941051   0.36961213 ... -0.17774779  0.18528228\n",
      "  -0.06185955]\n",
      " [ 0.06150917  0.5540069  -0.09505761 ...  0.10886467  0.41357255\n",
      "   0.0335482 ]] c: [[5.6309996]]\n",
      "L 0.3149806\n",
      "Step 40000 m: [[-0.08526625 -0.5110392   0.82367426 ... -0.17925921 -0.31105566\n",
      "  -0.06712648]\n",
      " [-0.08089417 -1.3425874   0.09168409 ... -0.20098564 -0.7804027\n",
      "  -0.0643869 ]\n",
      " [-0.08089417 -0.5839827   0.6867505  ... -0.19472942  0.42583779\n",
      "  -0.0643869 ]\n",
      " ...\n",
      " [ 0.05857039 -1.3756063   2.0798802  ...  0.10923273  0.12335483\n",
      "   0.03354283]\n",
      " [-0.10694031 -1.8833762   0.36737695 ... -0.17744808  0.17000157\n",
      "  -0.06186535]\n",
      " [ 0.06149932  0.555795   -0.08954757 ...  0.10886467  0.4153607\n",
      "   0.03354283]] c: [[5.6310587]]\n",
      "L 0.30724075\n",
      "Step 45000 m: [[-0.08527406 -0.5164036   0.82367426 ... -0.17940822 -0.31831464\n",
      "  -0.06713261]\n",
      " [-0.08090156 -1.3288783   0.09168409 ... -0.20003463 -0.7822285\n",
      "  -0.0643928 ]\n",
      " [-0.08090156 -0.5879533   0.6858564  ... -0.1944312   0.4091698\n",
      "  -0.0643928 ]\n",
      " ...\n",
      " [ 0.05856124 -1.3601091   2.0798802  ...  0.10884712  0.12920101\n",
      "   0.03353758]\n",
      " [-0.10695009 -1.8726474   0.36514178 ... -0.17724726  0.15493725\n",
      "  -0.06187101]\n",
      " [ 0.0614897   0.55758315 -0.08407257 ...  0.10886467  0.41714883\n",
      "   0.03353758]] c: [[5.6311164]]\n",
      "L 0.30001011\n",
      "Step 50000 m: [[-0.08528159 -0.52176803  0.82367426 ... -0.17952648 -0.3254672\n",
      "  -0.06713855]\n",
      " [-0.08090872 -1.3156575   0.09168409 ... -0.19932795 -0.78401667\n",
      "  -0.06439849]\n",
      " [-0.08090872 -0.59182763  0.68496233 ... -0.19421391  0.3926956\n",
      "  -0.06439849]\n",
      " ...\n",
      " [ 0.05855238 -1.3446119   2.0798802  ...  0.10856491  0.13495736\n",
      "   0.03353251]\n",
      " [-0.10695954 -1.8619186   0.3629066  ... -0.17710242  0.1400859\n",
      "  -0.06187648]\n",
      " [ 0.0614804   0.5593713  -0.07863365 ...  0.10885579  0.41893697\n",
      "   0.03353251]] c: [[5.631172]]\n",
      "L 0.293225\n"
     ]
    }
   ],
   "source": [
    "lo = []\n",
    "for i in range(50000):\n",
    "    sess.run(train_, feed_dict={x_data: x_vals, y_data: y_vals})\n",
    "    temp = sess.run(loss, feed_dict={x_data: x_vals, y_data: y_vals})\n",
    "    lo.append(temp)\n",
    "    if (i+1)%5000 == 0:\n",
    "        print('Step ' + str(i+1) + ' m: ' + str(sess.run(m)) + ' c: ' + str(sess.run(c)))\n",
    "        print('L',temp)"
   ]
  },
  {
   "cell_type": "code",
   "execution_count": 43,
   "metadata": {
    "collapsed": true
   },
   "outputs": [],
   "source": [
    "import matplotlib.pyplot as plt\n",
    "%matplotlib inline"
   ]
  },
  {
   "cell_type": "code",
   "execution_count": 44,
   "metadata": {},
   "outputs": [
    {
     "data": {
      "text/plain": [
       "<matplotlib.axes._subplots.AxesSubplot at 0x214def40630>"
      ]
     },
     "execution_count": 44,
     "metadata": {},
     "output_type": "execute_result"
    },
    {
     "data": {
      "image/png": "[encoded data removed]",
      "text/plain": [
       "<matplotlib.figure.Figure at 0x214def2df60>"
      ]
     },
     "metadata": {},
     "output_type": "display_data"
    }
   ],
   "source": [
    "df.sample(250).plot(kind='scatter', x= 'volatile acidity', y='quality')"
   ]
  },
  {
   "cell_type": "code",
   "execution_count": 45,
   "metadata": {},
   "outputs": [
    {
     "data": {
      "text/plain": [
       "Text(0,0.5,'Loss')"
      ]
     },
     "execution_count": 45,
     "metadata": {},
     "output_type": "execute_result"
    },
    {
     "data": {
      "image/png": "[encoded data removed]",
      "text/plain": [
       "<matplotlib.figure.Figure at 0x214dffc8828>"
      ]
     },
     "metadata": {},
     "output_type": "display_data"
    }
   ],
   "source": [
    "plt.plot(lo, 'g-')\n",
    "plt.title('Loss per Generation')\n",
    "plt.xlabel('Generation')\n",
    "plt.ylabel('Loss')"
   ]
  },
  {
   "cell_type": "code",
   "execution_count": null,
   "metadata": {
    "collapsed": true
   },
   "outputs": [],
   "source": []
  }
 ],
 "metadata": {
  "kernelspec": {
   "display_name": "Python 3",
   "language": "python",
   "name": "python3"
  },
  "language_info": {
   "codemirror_mode": {
    "name": "ipython",
    "version": 3
   },
   "file_extension": ".py",
   "mimetype": "text/x-python",
   "name": "python",
   "nbconvert_exporter": "python",
   "pygments_lexer": "ipython3",
   "version": "3.6.3"
  }
 },
 "nbformat": 4,
 "nbformat_minor": 2
}
